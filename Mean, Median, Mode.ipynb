{
 "cells": [
  {
   "cell_type": "code",
   "execution_count": 1,
   "id": "a3500d35",
   "metadata": {},
   "outputs": [
    {
     "data": {
      "text/plain": [
       "26625.315484881725"
      ]
     },
     "execution_count": 1,
     "metadata": {},
     "output_type": "execute_result"
    }
   ],
   "source": [
    "import numpy as np \n",
    "incomes = np.random.normal(27000, 15000, 10000)#it create a random bellcurve\n",
    "np.mean(incomes)"
   ]
  },
  {
   "cell_type": "code",
   "execution_count": 2,
   "id": "5718f9d4",
   "metadata": {},
   "outputs": [
    {
     "data": {
      "image/png": "[encoded data removed]",
      "text/plain": [
       "<Figure size 640x480 with 1 Axes>"
      ]
     },
     "metadata": {},
     "output_type": "display_data"
    }
   ],
   "source": [
    "%matplotlib inline\n",
    "import matplotlib.pyplot as plt \n",
    "plt.hist(incomes, 50)\n",
    "plt.show()"
   ]
  },
  {
   "cell_type": "code",
   "execution_count": 3,
   "id": "d02f94ce",
   "metadata": {},
   "outputs": [
    {
     "data": {
      "text/plain": [
       "26732.165286068128"
      ]
     },
     "execution_count": 3,
     "metadata": {},
     "output_type": "execute_result"
    }
   ],
   "source": [
    "np.median(incomes)"
   ]
  },
  {
   "cell_type": "code",
   "execution_count": 6,
   "id": "bc14d7d4",
   "metadata": {},
   "outputs": [],
   "source": [
    "incomes = np.append(incomes, [1000000000])"
   ]
  },
  {
   "cell_type": "code",
   "execution_count": 7,
   "id": "0982919e",
   "metadata": {},
   "outputs": [
    {
     "data": {
      "text/plain": [
       "26735.28003941128"
      ]
     },
     "execution_count": 7,
     "metadata": {},
     "output_type": "execute_result"
    }
   ],
   "source": [
    "np.median(incomes)"
   ]
  },
  {
   "cell_type": "code",
   "execution_count": 8,
   "id": "c13db568",
   "metadata": {},
   "outputs": [
    {
     "data": {
      "text/plain": [
       "226579.99948498473"
      ]
     },
     "execution_count": 8,
     "metadata": {},
     "output_type": "execute_result"
    }
   ],
   "source": [
    "np.mean(incomes)"
   ]
  },
  {
   "cell_type": "code",
   "execution_count": 12,
   "id": "2323e612",
   "metadata": {},
   "outputs": [
    {
     "data": {
      "text/plain": [
       "array([53, 25, 68, 44, 89, 20, 69, 28, 64, 23, 55, 29, 51, 83, 47, 54, 58,\n",
       "       89, 31, 85, 48, 66, 37, 29, 84, 23, 71, 37, 31, 82, 51, 82, 82, 59,\n",
       "       57, 41, 64, 20, 59, 55, 30, 59, 80, 23, 54, 20, 84, 21, 39, 18, 88,\n",
       "       40, 22, 54, 68, 35, 61, 32, 58, 52, 22, 18, 25, 33, 71, 81, 37, 89,\n",
       "       58, 33, 77, 69, 62, 59, 68, 87, 73, 77, 55, 38, 20, 27, 40, 77, 75,\n",
       "       29, 45, 40, 38, 75, 37, 27, 59, 47, 79, 30, 48, 52, 84, 79, 85, 87,\n",
       "       84, 76, 70, 23, 33, 52, 55, 48, 38, 65, 82, 85, 31, 62, 28, 84, 48,\n",
       "       58, 75, 68, 57, 28, 69, 71, 49, 34, 72, 42, 61, 55, 27, 23, 46, 49,\n",
       "       35, 48, 68, 49, 67, 66, 58, 24, 87, 61, 74, 62, 68, 66, 37, 45, 72,\n",
       "       37, 59, 56, 59, 75, 40, 54, 43, 58, 72, 80, 89, 63, 69, 31, 32, 59,\n",
       "       80, 64, 45, 46, 58, 37, 74, 21, 28, 40, 76, 88, 52, 33, 76, 59, 29,\n",
       "       67, 88, 18, 56, 22, 84, 31, 53, 36, 85, 38, 67, 68, 73, 61, 46, 60,\n",
       "       49, 84, 21, 33, 32, 67, 79, 85, 78, 41, 38, 29, 27, 58, 82, 37, 23,\n",
       "       87, 72, 52, 30, 55, 76, 60, 77, 61, 39, 57, 29, 22, 64, 34, 58, 85,\n",
       "       55, 34, 84, 57, 70, 22, 66, 41, 37, 56, 22, 71, 48, 26, 71, 51, 86,\n",
       "       55, 68, 21, 42, 25, 54, 39, 87, 53, 44, 34, 87, 56, 45, 48, 34, 51,\n",
       "       46, 67, 75, 67, 29, 86, 77, 42, 41, 71, 28, 77, 65, 47, 18, 43, 37,\n",
       "       68, 38, 77, 58, 65, 53, 76, 29, 78, 85, 34, 26, 34, 89, 24, 52, 49,\n",
       "       84, 45, 47, 71, 18, 25, 33, 44, 42, 27, 53, 62, 21, 26, 70, 48, 53,\n",
       "       64, 32, 29, 85, 67, 75, 22, 79, 64, 58, 83, 43, 58, 81, 65, 53, 57,\n",
       "       66, 28, 42, 52, 74, 60, 84, 76, 27, 50, 34, 21, 55, 84, 66, 78, 24,\n",
       "       30, 83, 23, 20, 69, 74, 52, 88, 86, 28, 27, 78, 81, 85, 83, 51, 24,\n",
       "       29, 31, 24, 60, 44, 60, 74, 81, 39, 44, 72, 63, 34, 65, 37, 42, 59,\n",
       "       50, 53, 43, 32, 35, 66, 68, 66, 60, 21, 36, 21, 72, 77, 80, 86, 18,\n",
       "       20, 70, 20, 65, 44, 29, 77, 39, 40, 54, 18, 67, 53, 53, 44, 68, 51,\n",
       "       26, 87, 48, 85, 36, 77, 67, 82, 47, 25, 81, 82, 41, 89, 24, 58, 44,\n",
       "       66, 51, 84, 38, 52, 87, 74, 45, 76, 27, 84, 68, 37, 58, 89, 80, 72,\n",
       "       32, 88, 79, 44, 52, 64, 64, 40, 27, 87, 46, 41, 33, 44, 39, 55, 24,\n",
       "       72, 52, 72, 55, 52, 67, 80, 21, 87, 68, 77, 72, 50, 76, 45, 27, 57,\n",
       "       74, 48, 46, 64, 23, 24, 61])"
      ]
     },
     "execution_count": 12,
     "metadata": {},
     "output_type": "execute_result"
    }
   ],
   "source": [
    "ages = np.random.randint(18, high=90, size = 500)\n",
    "ages "
   ]
  },
  {
   "cell_type": "code",
   "execution_count": 14,
   "id": "d97db8d5",
   "metadata": {},
   "outputs": [
    {
     "name": "stderr",
     "output_type": "stream",
     "text": [
      "C:\\Users\\aLASTAIR\\AppData\\Local\\Temp\\ipykernel_28484\\2929981569.py:2: FutureWarning: Unlike other reduction functions (e.g. `skew`, `kurtosis`), the default behavior of `mode` typically preserves the axis it acts along. In SciPy 1.11.0, this behavior will change: the default value of `keepdims` will become False, the `axis` over which the statistic is taken will be eliminated, and the value None will no longer be accepted. Set `keepdims` to True or False to avoid this warning.\n",
      "  stats.mode(ages)\n"
     ]
    },
    {
     "data": {
      "text/plain": [
       "ModeResult(mode=array([58]), count=array([14]))"
      ]
     },
     "execution_count": 14,
     "metadata": {},
     "output_type": "execute_result"
    }
   ],
   "source": [
    "from scipy import stats\n",
    "stats.mode(ages)\n"
   ]
  },
  {
   "cell_type": "code",
   "execution_count": null,
   "id": "e590a8b0",
   "metadata": {},
   "outputs": [],
   "source": []
  },
  {
   "cell_type": "code",
   "execution_count": null,
   "id": "f3239d9f",
   "metadata": {},
   "outputs": [],
   "source": []
  }
 ],
 "metadata": {
  "kernelspec": {
   "display_name": "Python 3 (ipykernel)",
   "language": "python",
   "name": "python3"
  },
  "language_info": {
   "codemirror_mode": {
    "name": "ipython",
    "version": 3
   },
   "file_extension": ".py",
   "mimetype": "text/x-python",
   "name": "python",
   "nbconvert_exporter": "python",
   "pygments_lexer": "ipython3",
   "version": "3.9.13"
  }
 },
 "nbformat": 4,
 "nbformat_minor": 5
}
